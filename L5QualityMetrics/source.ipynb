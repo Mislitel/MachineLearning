{
 "cells": [
  {
   "cell_type": "markdown",
   "metadata": {},
   "source": [
    "# Исходные данные\n",
    "Датасет: https://www.openml.org/d/44\n",
    "\n",
    "Предметная область: спам в электронной рассылке.\n",
    "Задача: определить, является ли электронное письмо спамом.\n",
    "Записей: 4601, атрибутов: 57.\n",
    "\n",
    "## Атрибуты\n",
    "1.\tЧастота использования строки «make» (вещественный тип, [0,100])\n",
    "2.\tЧастота использования строки «address» (вещественный тип, [0,100])\n",
    "3.\tЧастота использования строки «all» (вещественный тип, [0,100])\n",
    "4.\tЧастота использования строки «3d» (вещественный тип, [0,100])\n",
    "5.\tЧастота использования строки «our» (вещественный тип, [0,100])\n",
    "6.\tЧастота использования строки «over» (вещественный тип, [0,100])\n",
    "7.\tЧастота использования строки «remove» (вещественный тип, [0,100])\n",
    "8.\tЧастота использования строки «internet» (вещественный тип, [0,100])\n",
    "9.\tЧастота использования строки «order» (вещественный тип, [0,100])\n",
    "10.\tЧастота использования строки «mail» (вещественный тип, [0,100])\n",
    "11.\tЧастота использования строки «receive» (вещественный тип, [0,100])\n",
    "12.\tЧастота использования строки «will» (вещественный тип, [0,100])\n",
    "13.\tЧастота использования строки «people» (вещественный тип, [0,100])\n",
    "14.\tЧастота использования строки «report» (вещественный тип, [0,100])\n",
    "15.\tЧастота использования строки «addresses» (вещественный тип, [0,100])\n",
    "16.\tЧастота использования строки «free» (вещественный тип, [0,100])\n",
    "17.\tЧастота использования строки «business» (вещественный тип, [0,100])\n",
    "18.\tЧастота использования строки «email» (вещественный тип, [0,100])\n",
    "19.\tЧастота использования строки «you» (вещественный тип, [0,100])\n",
    "20.\tЧастота использования строки «credit» (вещественный тип, [0,100])\n",
    "21.\tЧастота использования строки «your» (вещественный тип, [0,100])\n",
    "22.\tЧастота использования строки «font» (вещественный тип, [0,100])\n",
    "23.\tЧастота использования строки «000» (вещественный тип, [0,100])\n",
    "24.\tЧастота использования строки «money» (вещественный тип, [0,100])\n",
    "25.\tЧастота использования строки «hp» (вещественный тип, [0,100])\n",
    "26.\tЧастота использования строки «hpl» (вещественный тип, [0,100])\n",
    "27.\tЧастота использования строки «george» (вещественный тип, [0,100])\n",
    "28.\tЧастота использования строки «650» (вещественный тип, [0,100])\n",
    "29.\tЧастота использования строки «lab» (вещественный тип, [0,100])\n",
    "30.\tЧастота использования строки «labs» (вещественный тип, [0,100])\n",
    "31.\tЧастота использования строки «telnet» (вещественный тип, [0,100])\n",
    "32.\tЧастота использования строки «857» (вещественный тип, [0,100])\n",
    "33.\tЧастота использования строки «data» (вещественный тип, [0,100])\n",
    "34.\tЧастота использования строки «415» (вещественный тип, [0,100])\n",
    "35.\tЧастота использования строки «85» (вещественный тип, [0,100])\n",
    "36.\tЧастота использования строки «technology» (вещественный тип, [0,100])\n",
    "37.\tЧастота использования строки «1999» (вещественный тип, [0,100])\n",
    "38.\tЧастота использования строки «parts» (вещественный тип, [0,100])\n",
    "39.\tЧастота использования строки «pm» (вещественный тип, [0,100])\n",
    "40.\tЧастота использования строки «direct» (вещественный тип, [0,100])\n",
    "41.\tЧастота использования строки «cs» (вещественный тип, [0,100])\n",
    "42.\tЧастота использования строки «meeting» (вещественный тип, [0,100])\n",
    "43.\tЧастота использования строки «original» (вещественный тип, [0,100])\n",
    "44.\tЧастота использования строки «project» (вещественный тип, [0,100])\n",
    "45.\tЧастота использования строки «re» (вещественный тип, [0,100])\n",
    "46.\tЧастота использования строки «edu» (вещественный тип, [0,100])\n",
    "47.\tЧастота использования строки «table» (вещественный тип, [0,100])\n",
    "48.\tЧастота использования строки «conference» (вещественный тип, [0,100])\n",
    "49.\tЧастота использования символа “<” (вещественный тип, [0,100])\n",
    "50.\tЧастота использования символа “(” (вещественный тип, [0,100])\n",
    "51.\tЧастота использования символа “[” (вещественный тип, [0,100])\n",
    "52.\tЧастота использования символа “!” (вещественный тип, [0,100])\n",
    "53.\tЧастота использования символа “$” (вещественный тип, [0,100])\n",
    "54.\tЧастота использования символа “#” (вещественный тип, [0,100])\n",
    "55.\tСредняя длина непрерывной последовательности заглавных букв (вещественный тип, [1, …])\n",
    "56.\tСамая длинная непрерывная последовательность заглавных букв (целый тип, [1, …])\n",
    "57.\tСумма длин всех непрерывных последовательностей заглавных букв (целый тип, [1, …])\n",
    "\n",
    "## Классы\n",
    "0 – не спам, 1 – спам."
   ]
  },
  {
   "cell_type": "markdown",
   "metadata": {},
   "source": [
    "# Ход работы"
   ]
  },
  {
   "cell_type": "markdown",
   "metadata": {},
   "source": [
    "В качестве объектов исследования были взяты два метода машинного обучения: наивный байесовский классификатор (NB) и метод опорных векторов с параметрами, подобранными в предыдущей лабораторной работе (SVM)."
   ]
  },
  {
   "cell_type": "code",
   "execution_count": 1,
   "metadata": {
    "collapsed": true
   },
   "outputs": [],
   "source": [
    "# Импорт библиотек\n",
    "import numpy as np\n",
    "import pandas as pd\n",
    "import warnings\n",
    "warnings.filterwarnings('ignore')\n",
    "\n",
    "from sklearn.model_selection import train_test_split\n",
    "from sklearn.model_selection import cross_val_score\n",
    "from sklearn.metrics import confusion_matrix\n",
    "from sklearn.metrics import classification_report\n",
    "from sklearn.svm import SVC\n",
    "from sklearn.naive_bayes import GaussianNB\n",
    "from time import time"
   ]
  },
  {
   "cell_type": "code",
   "execution_count": 2,
   "metadata": {
    "collapsed": true
   },
   "outputs": [],
   "source": [
    "# Загрузка данных из файла\n",
    "data = pd.read_csv('data/spambase.data', header = None).values\n",
    "# Разделение на классы и атрибуты\n",
    "X = data[:, :-1]\n",
    "Y = np.ravel(data[:, -1:].astype(np.int64, copy=False))\n",
    "# Выделение обучающей и тестовой выборки\n",
    "x_train, x_test, y_train, y_test = train_test_split(\n",
    "    X, Y, test_size=0.3, random_state=42)"
   ]
  },
  {
   "cell_type": "markdown",
   "metadata": {},
   "source": [
    "## Точность классификации"
   ]
  },
  {
   "cell_type": "code",
   "execution_count": 3,
   "metadata": {},
   "outputs": [
    {
     "name": "stdout",
     "output_type": "stream",
     "text": [
      "Доля правильных ответов NB: 0.83 +/- 0.06\n",
      "Доля правильных ответов SVM: 0.85 +/- 0.05\n"
     ]
    }
   ],
   "source": [
    "bayesClf = GaussianNB()\n",
    "svmClf = SVC(kernel='rbf', C=10, gamma=0.001, probability=True)\n",
    "bayesAcc = cross_val_score(bayesClf, X, Y, cv=5, scoring='accuracy')\n",
    "svmAcc = cross_val_score(svmClf, X, Y, cv=5, scoring='accuracy')\n",
    "print(\"Доля правильных ответов NB: {:.2f} +/- {:.2f}\".format(bayesAcc.mean(), bayesAcc.std()))\n",
    "print(\"Доля правильных ответов SVM: {:.2f} +/- {:.2f}\".format(svmAcc.mean(), svmAcc.std()))"
   ]
  },
  {
   "cell_type": "markdown",
   "metadata": {},
   "source": [
    "## Логарифм функции правдоподобия"
   ]
  },
  {
   "cell_type": "code",
   "execution_count": 4,
   "metadata": {},
   "outputs": [
    {
     "name": "stdout",
     "output_type": "stream",
     "text": [
      "Логарифм функции правдоподобия NB: -4.44 +/- 1.76\n",
      "Логарифм функции правдоподобия SVM: -0.36 +/- 0.12\n"
     ]
    }
   ],
   "source": [
    "bayesClf.fit(x_train, y_train)\n",
    "svmClf.fit(x_train, y_train)\n",
    "bayesLogLoss = cross_val_score(bayesClf, X, Y, cv=5, scoring='neg_log_loss')\n",
    "svmLogLoss = cross_val_score(svmClf, X, Y, cv=5, scoring='neg_log_loss')\n",
    "print(\"Логарифм функции правдоподобия NB: {:.2f} +/- {:.2f}\".format(bayesLogLoss.mean(), bayesLogLoss.std()))\n",
    "print(\"Логарифм функции правдоподобия SVM: {:.2f} +/- {:.2f}\".format(svmLogLoss.mean(), svmLogLoss.std()))"
   ]
  },
  {
   "cell_type": "markdown",
   "metadata": {},
   "source": [
    "## Область под кривой ошибок"
   ]
  },
  {
   "cell_type": "code",
   "execution_count": 5,
   "metadata": {},
   "outputs": [
    {
     "name": "stdout",
     "output_type": "stream",
     "text": [
      "Область под кривой ошибки NB: 0.94 +/- 0.03\n",
      "Область под кривой ошибки SVM: 0.92 +/- 0.04\n"
     ]
    }
   ],
   "source": [
    "bayesAuc = cross_val_score(bayesClf, X, Y, cv=5, scoring='roc_auc')\n",
    "svmAuc = cross_val_score(svmClf, X, Y, cv=5, scoring='roc_auc')\n",
    "print(\"Область под кривой ошибки NB: {:.2f} +/- {:.2f}\".format(bayesAuc.mean(), bayesAuc.std()))\n",
    "print(\"Область под кривой ошибки SVM: {:.2f} +/- {:.2f}\".format(svmAuc.mean(), svmAuc.std()))"
   ]
  },
  {
   "cell_type": "markdown",
   "metadata": {},
   "source": [
    "## Матрица неточностей"
   ]
  },
  {
   "cell_type": "code",
   "execution_count": 6,
   "metadata": {},
   "outputs": [
    {
     "name": "stdout",
     "output_type": "stream",
     "text": [
      "Матрица неточностей NB:\n",
      " [[592 212]\n",
      " [ 30 547]]\n",
      "Матрица неточностей SVM:\n",
      " [[725  79]\n",
      " [100 477]]\n"
     ]
    }
   ],
   "source": [
    "bayesPredict = bayesClf.predict(x_test)\n",
    "svmPredict = svmClf.predict(x_test)\n",
    "bayes_matrix = confusion_matrix(y_test, bayesPredict)\n",
    "svm_matrix = confusion_matrix(y_test, svmPredict)\n",
    "print(\"Матрица неточностей NB:\\n\", bayes_matrix)\n",
    "print(\"Матрица неточностей SVM:\\n\", svm_matrix)"
   ]
  },
  {
   "cell_type": "markdown",
   "metadata": {},
   "source": [
    "## Отчёт классификации"
   ]
  },
  {
   "cell_type": "code",
   "execution_count": 7,
   "metadata": {},
   "outputs": [
    {
     "name": "stdout",
     "output_type": "stream",
     "text": [
      "Отчёт классификации NB:\n",
      "              precision    recall  f1-score   support\n",
      "\n",
      "          0       0.95      0.74      0.83       804\n",
      "          1       0.72      0.95      0.82       577\n",
      "\n",
      "avg / total       0.86      0.82      0.83      1381\n",
      "\n",
      "Отчёт классификации SVM:\n",
      "              precision    recall  f1-score   support\n",
      "\n",
      "          0       0.88      0.90      0.89       804\n",
      "          1       0.86      0.83      0.84       577\n",
      "\n",
      "avg / total       0.87      0.87      0.87      1381\n",
      "\n"
     ]
    }
   ],
   "source": [
    "bayes_report = classification_report(y_test, bayesPredict)\n",
    "svm_report = classification_report(y_test, svmPredict)\n",
    "print(\"Отчёт классификации NB:\\n\", bayes_report)\n",
    "print(\"Отчёт классификации SVM:\\n\", svm_report)"
   ]
  },
  {
   "cell_type": "markdown",
   "metadata": {},
   "source": [
    "# Вывод\n",
    "\n",
    "Исследование показало, что метод опорных векторов (SVM) превосходит наивный байесовский классификатор (NB) по показателям доли правильных ответов (SVM: 0.85, NB: 0.83), точности (SVM: 0.87, NB: 0.86) и полноты (SVM: 0.87, NB: 0.82). Несмотря на весьма незначительную разницу, метод опорных векторов продемонстрировал лучшие показатели качества, поэтому его использование в данной задаче более предпочтительно, чем использование наивного байесовского классификатора."
   ]
  }
 ],
 "metadata": {
  "kernelspec": {
   "display_name": "Python 3",
   "language": "python",
   "name": "python3"
  },
  "language_info": {
   "codemirror_mode": {
    "name": "ipython",
    "version": 3
   },
   "file_extension": ".py",
   "mimetype": "text/x-python",
   "name": "python",
   "nbconvert_exporter": "python",
   "pygments_lexer": "ipython3",
   "version": "3.6.2"
  }
 },
 "nbformat": 4,
 "nbformat_minor": 2
}
