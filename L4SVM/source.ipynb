{
 "cells": [
  {
   "cell_type": "markdown",
   "metadata": {},
   "source": [
    "# Исходные данные\n",
    "Датасет: https://www.openml.org/d/44\n",
    "\n",
    "Предметная область: спам в электронной рассылке.\n",
    "Задача: определить, является ли электронное письмо спамом.\n",
    "Записей: 4601, атрибутов: 57.\n",
    "\n",
    "## Атрибуты\n",
    "1.\tЧастота использования строки «make» (вещественный тип, [0,100])\n",
    "2.\tЧастота использования строки «address» (вещественный тип, [0,100])\n",
    "3.\tЧастота использования строки «all» (вещественный тип, [0,100])\n",
    "4.\tЧастота использования строки «3d» (вещественный тип, [0,100])\n",
    "5.\tЧастота использования строки «our» (вещественный тип, [0,100])\n",
    "6.\tЧастота использования строки «over» (вещественный тип, [0,100])\n",
    "7.\tЧастота использования строки «remove» (вещественный тип, [0,100])\n",
    "8.\tЧастота использования строки «internet» (вещественный тип, [0,100])\n",
    "9.\tЧастота использования строки «order» (вещественный тип, [0,100])\n",
    "10.\tЧастота использования строки «mail» (вещественный тип, [0,100])\n",
    "11.\tЧастота использования строки «receive» (вещественный тип, [0,100])\n",
    "12.\tЧастота использования строки «will» (вещественный тип, [0,100])\n",
    "13.\tЧастота использования строки «people» (вещественный тип, [0,100])\n",
    "14.\tЧастота использования строки «report» (вещественный тип, [0,100])\n",
    "15.\tЧастота использования строки «addresses» (вещественный тип, [0,100])\n",
    "16.\tЧастота использования строки «free» (вещественный тип, [0,100])\n",
    "17.\tЧастота использования строки «business» (вещественный тип, [0,100])\n",
    "18.\tЧастота использования строки «email» (вещественный тип, [0,100])\n",
    "19.\tЧастота использования строки «you» (вещественный тип, [0,100])\n",
    "20.\tЧастота использования строки «credit» (вещественный тип, [0,100])\n",
    "21.\tЧастота использования строки «your» (вещественный тип, [0,100])\n",
    "22.\tЧастота использования строки «font» (вещественный тип, [0,100])\n",
    "23.\tЧастота использования строки «000» (вещественный тип, [0,100])\n",
    "24.\tЧастота использования строки «money» (вещественный тип, [0,100])\n",
    "25.\tЧастота использования строки «hp» (вещественный тип, [0,100])\n",
    "26.\tЧастота использования строки «hpl» (вещественный тип, [0,100])\n",
    "27.\tЧастота использования строки «george» (вещественный тип, [0,100])\n",
    "28.\tЧастота использования строки «650» (вещественный тип, [0,100])\n",
    "29.\tЧастота использования строки «lab» (вещественный тип, [0,100])\n",
    "30.\tЧастота использования строки «labs» (вещественный тип, [0,100])\n",
    "31.\tЧастота использования строки «telnet» (вещественный тип, [0,100])\n",
    "32.\tЧастота использования строки «857» (вещественный тип, [0,100])\n",
    "33.\tЧастота использования строки «data» (вещественный тип, [0,100])\n",
    "34.\tЧастота использования строки «415» (вещественный тип, [0,100])\n",
    "35.\tЧастота использования строки «85» (вещественный тип, [0,100])\n",
    "36.\tЧастота использования строки «technology» (вещественный тип, [0,100])\n",
    "37.\tЧастота использования строки «1999» (вещественный тип, [0,100])\n",
    "38.\tЧастота использования строки «parts» (вещественный тип, [0,100])\n",
    "39.\tЧастота использования строки «pm» (вещественный тип, [0,100])\n",
    "40.\tЧастота использования строки «direct» (вещественный тип, [0,100])\n",
    "41.\tЧастота использования строки «cs» (вещественный тип, [0,100])\n",
    "42.\tЧастота использования строки «meeting» (вещественный тип, [0,100])\n",
    "43.\tЧастота использования строки «original» (вещественный тип, [0,100])\n",
    "44.\tЧастота использования строки «project» (вещественный тип, [0,100])\n",
    "45.\tЧастота использования строки «re» (вещественный тип, [0,100])\n",
    "46.\tЧастота использования строки «edu» (вещественный тип, [0,100])\n",
    "47.\tЧастота использования строки «table» (вещественный тип, [0,100])\n",
    "48.\tЧастота использования строки «conference» (вещественный тип, [0,100])\n",
    "49.\tЧастота использования символа “<” (вещественный тип, [0,100])\n",
    "50.\tЧастота использования символа “(” (вещественный тип, [0,100])\n",
    "51.\tЧастота использования символа “[” (вещественный тип, [0,100])\n",
    "52.\tЧастота использования символа “!” (вещественный тип, [0,100])\n",
    "53.\tЧастота использования символа “$” (вещественный тип, [0,100])\n",
    "54.\tЧастота использования символа “#” (вещественный тип, [0,100])\n",
    "55.\tСредняя длина непрерывной последовательности заглавных букв (вещественный тип, [1, …])\n",
    "56.\tСамая длинная непрерывная последовательность заглавных букв (целый тип, [1, …])\n",
    "57.\tСумма длин всех непрерывных последовательностей заглавных букв (целый тип, [1, …])\n",
    "\n",
    "## Классы\n",
    "0 – не спам, 1 – спам."
   ]
  },
  {
   "cell_type": "code",
   "execution_count": 1,
   "metadata": {
    "collapsed": true
   },
   "outputs": [],
   "source": [
    "# Импорт библиотек\n",
    "import numpy as np\n",
    "import pandas as pd\n",
    "import warnings\n",
    "warnings.filterwarnings('ignore')\n",
    "\n",
    "from sklearn.model_selection import train_test_split\n",
    "from sklearn import svm\n",
    "from time import time"
   ]
  },
  {
   "cell_type": "code",
   "execution_count": 2,
   "metadata": {
    "collapsed": true
   },
   "outputs": [],
   "source": [
    "# Загрузка данных из файла\n",
    "data = pd.read_csv('data/spambase.data', header = None).values\n",
    "# Разделение на классы и атрибуты\n",
    "attributes = data[:, :-1]\n",
    "classes = np.ravel(data[:, -1:].astype(np.int64, copy=False))\n",
    "# Выделение обучающей и тестовой выборки\n",
    "x_train, x_test, y_train, y_test = train_test_split(\n",
    "    attributes, classes, test_size=0.3, random_state=42)"
   ]
  },
  {
   "cell_type": "markdown",
   "metadata": {},
   "source": [
    "# Сравнение по ядру"
   ]
  },
  {
   "cell_type": "code",
   "execution_count": 3,
   "metadata": {},
   "outputs": [
    {
     "name": "stdout",
     "output_type": "stream",
     "text": [
      "Затраченное время: 554.1157522201538 c.\n",
      "Точность ядра Linear: 92.76%\n"
     ]
    }
   ],
   "source": [
    "# Ядро Linear\n",
    "t0 = time()\n",
    "linear = svm.SVC(kernel=\"linear\").fit(x_train, y_train)\n",
    "print(\"Затраченное время:\", time() - t0, \"c.\")\n",
    "print(\"Точность ядра Linear: {:.2%}\".format(linear.score(x_test, y_test)))"
   ]
  },
  {
   "cell_type": "code",
   "execution_count": 4,
   "metadata": {},
   "outputs": [
    {
     "name": "stdout",
     "output_type": "stream",
     "text": [
      "Затраченное время: 0.956209659576416 c.\n",
      "Точность ядра RBF: 81.25%\n"
     ]
    }
   ],
   "source": [
    "# Ядро RBF\n",
    "t1 = time()\n",
    "rbf = svm.SVC(kernel=\"rbf\").fit(x_train, y_train)\n",
    "print(\"Затраченное время:\", time() - t1, \"c.\")\n",
    "print(\"Точность ядра RBF: {:.2%}\".format(rbf.score(x_test, y_test)))"
   ]
  },
  {
   "cell_type": "code",
   "execution_count": 5,
   "metadata": {},
   "outputs": [
    {
     "name": "stdout",
     "output_type": "stream",
     "text": [
      "Затраченное время:  0.615405797958374 c.\n",
      "Точность ядра Sigmoid: 35.63%\n"
     ]
    }
   ],
   "source": [
    "# Ядро Sigmoid\n",
    "t2 = time()\n",
    "sigmoid = svm.SVC(kernel=\"sigmoid\").fit(x_train, y_train)\n",
    "print(\"Затраченное время: \", time() - t2, \"c.\")\n",
    "print(\"Точность ядра Sigmoid: {:.2%}\".format(sigmoid.score(x_test, y_test)))"
   ]
  },
  {
   "cell_type": "markdown",
   "metadata": {},
   "source": [
    "|            |Linear|RBF  |Sigmoid|\n",
    "|:-----------|:----:|:---:|:-----:|\n",
    "|точность (%)|92,76 |81,25|35,63  |\n",
    "|время (с)   |554   |0,96 |0,62   |"
   ]
  },
  {
   "cell_type": "markdown",
   "metadata": {},
   "source": [
    "# Сравнение по параметру C"
   ]
  },
  {
   "cell_type": "code",
   "execution_count": 7,
   "metadata": {},
   "outputs": [
    {
     "name": "stdout",
     "output_type": "stream",
     "text": [
      "C = 0.5\n",
      "Точность ядра Linear: 92.83%\n",
      "Точность ядра RBF: 78.78%\n",
      "Точность ядра Sigmoid: 38.52%\n"
     ]
    }
   ],
   "source": [
    "linearC05 = svm.SVC(kernel=\"linear\", C=0.5).fit(x_train, y_train)\n",
    "rbfC05 = svm.SVC(kernel=\"rbf\", C=0.5).fit(x_train, y_train)\n",
    "sigmoidC05 = svm.SVC(kernel=\"sigmoid\", C=0.5).fit(x_train, y_train)\n",
    "print(\"C = 0.5\")\n",
    "print(\"Точность ядра Linear: {:.2%}\".format(linearC05.score(x_test, y_test)))\n",
    "print(\"Точность ядра RBF: {:.2%}\".format(rbfC05.score(x_test, y_test)))\n",
    "print(\"Точность ядра Sigmoid: {:.2%}\".format(sigmoidC05.score(x_test, y_test)))"
   ]
  },
  {
   "cell_type": "code",
   "execution_count": 9,
   "metadata": {},
   "outputs": [
    {
     "name": "stdout",
     "output_type": "stream",
     "text": [
      "C = 10\n",
      "Точность ядра Linear: 91.89%\n",
      "Точность ядра RBF: 83.13%\n",
      "Точность ядра Sigmoid: 33.67%\n"
     ]
    }
   ],
   "source": [
    "linearC10 = svm.SVC(kernel=\"linear\", C=10).fit(x_train, y_train)\n",
    "rbfC10 = svm.SVC(kernel=\"rbf\", C=10).fit(x_train, y_train)\n",
    "sigmoidC10 = svm.SVC(kernel=\"sigmoid\", C=10).fit(x_train, y_train)\n",
    "print(\"C = 10\")\n",
    "print(\"Точность ядра Linear: {:.2%}\".format(linearC10.score(x_test, y_test)))\n",
    "print(\"Точность ядра RBF: {:.2%}\".format(rbfC10.score(x_test, y_test)))\n",
    "print(\"Точность ядра Sigmoid: {:.2%}\".format(sigmoidC10.score(x_test, y_test)))"
   ]
  },
  {
   "cell_type": "code",
   "execution_count": 10,
   "metadata": {},
   "outputs": [
    {
     "name": "stdout",
     "output_type": "stream",
     "text": [
      "C = 100\n",
      "Точность ядра Linear: 91.38%\n",
      "Точность ядра RBF: 82.40%\n",
      "Точность ядра Sigmoid: 33.38%\n"
     ]
    }
   ],
   "source": [
    "linearC100 = svm.SVC(kernel=\"linear\", C=100).fit(x_train, y_train)\n",
    "rbfC100 = svm.SVC(kernel=\"rbf\", C=100).fit(x_train, y_train)\n",
    "sigmoidC100 = svm.SVC(kernel=\"sigmoid\", C=100).fit(x_train, y_train)\n",
    "print(\"C = 100\")\n",
    "print(\"Точность ядра Linear: {:.2%}\".format(linearC100.score(x_test, y_test)))\n",
    "print(\"Точность ядра RBF: {:.2%}\".format(rbfC100.score(x_test, y_test)))\n",
    "print(\"Точность ядра Sigmoid: {:.2%}\".format(sigmoidC100.score(x_test, y_test)))"
   ]
  },
  {
   "cell_type": "markdown",
   "metadata": {},
   "source": [
    "| Ядро  | C = 0,5 | C = 1 | C = 10 | C = 100 |\n",
    "|:----- |:-------:|:-----:|:------:|:-------:|\n",
    "|Linear |92,83    |92,76  |91,89   |91,38    |\n",
    "|RBF    |78,78    |81,25  |83,13   |82,40    |\n",
    "|Sigmoid|38,52    |35,63  |33,67   |33,38    |"
   ]
  },
  {
   "cell_type": "markdown",
   "metadata": {},
   "source": [
    "# Сравнение по параметру gamma ядра RBF"
   ]
  },
  {
   "cell_type": "markdown",
   "metadata": {},
   "source": [
    "В предыдущих экспериментах наилучшее соотношение между точностью и временем выполнения показало ядро RBF с аргументом С = 10. Точность для данного набора параметров можно улучшить путём подбора коэффициента gamma."
   ]
  },
  {
   "cell_type": "code",
   "execution_count": 19,
   "metadata": {},
   "outputs": [
    {
     "name": "stdout",
     "output_type": "stream",
     "text": [
      "Gamma = 0.1:\t74.44%\n",
      "Gamma = 0.5:\t70.82%\n",
      "Gamma = 0.01:\t85.59%\n",
      "Gamma = 0.001:\t87.04%\n",
      "Gamma = 0.0001:\t84.29%\n",
      "Gamma = 0.005:\t86.39%\n"
     ]
    }
   ],
   "source": [
    "rbfGamma01 = svm.SVC(kernel=\"rbf\", C=10, gamma=0.1).fit(x_train, y_train)\n",
    "print(\"Gamma = 0.1:\\t{:.2%}\".format(rbfGamma01.score(x_test, y_test)))\n",
    "rbfGamma05 = svm.SVC(kernel=\"rbf\", C=10, gamma=0.5).fit(x_train, y_train)\n",
    "print(\"Gamma = 0.5:\\t{:.2%}\".format(rbfGamma05.score(x_test, y_test)))\n",
    "rbfGamma001 = svm.SVC(kernel=\"rbf\", C=10, gamma=0.01).fit(x_train, y_train)\n",
    "print(\"Gamma = 0.01:\\t{:.2%}\".format(rbfGamma001.score(x_test, y_test)))\n",
    "rbfGamma0001 = svm.SVC(kernel=\"rbf\", C=10, gamma=0.001).fit(x_train, y_train)\n",
    "print(\"Gamma = 0.001:\\t{:.2%}\".format(rbfGamma0001.score(x_test, y_test)))\n",
    "rbfGamma00001 = svm.SVC(kernel=\"rbf\", C=10, gamma=0.0001).fit(x_train, y_train)\n",
    "print(\"Gamma = 0.0001:\\t{:.2%}\".format(rbfGamma00001.score(x_test, y_test)))\n",
    "rbfGamma0005 = svm.SVC(kernel=\"rbf\", C=10, gamma=0.005).fit(x_train, y_train)\n",
    "print(\"Gamma = 0.005:\\t{:.2%}\".format(rbfGamma0005.score(x_test, y_test)))"
   ]
  },
  {
   "cell_type": "markdown",
   "metadata": {},
   "source": [
    "# Вывод"
   ]
  },
  {
   "cell_type": "markdown",
   "metadata": {},
   "source": [
    "Использование метода опорных векторов (SVM) может быть оправдано для различных наборов данных в зависимости от подобранных параметров. Для данного конкретного набора данных наивысшую точность показало ядро \"linear\" (92,83%), однако продолжительность времени вычислений (554 секунды или ~9,2 мин) оставляет желать лучшего. Лучший компромисс между точностью и продолжительностью вычислений показало ядро \"rbf\" (точность ~80%, время выполнения ~1 сек), точность которого была улучшена с изменением параметров C и gamma (лучшая результирующая точность: 87%). Следовательно, можно сделать вывод о наилучшей применимости к задаче классификации для данного набора данных метода опорных векторов с ядром \"rbf\", C = 10, gamma = 0.001."
   ]
  }
 ],
 "metadata": {
  "kernelspec": {
   "display_name": "Python 3",
   "language": "python",
   "name": "python3"
  },
  "language_info": {
   "codemirror_mode": {
    "name": "ipython",
    "version": 3
   },
   "file_extension": ".py",
   "mimetype": "text/x-python",
   "name": "python",
   "nbconvert_exporter": "python",
   "pygments_lexer": "ipython3",
   "version": "3.6.2"
  }
 },
 "nbformat": 4,
 "nbformat_minor": 2
}
